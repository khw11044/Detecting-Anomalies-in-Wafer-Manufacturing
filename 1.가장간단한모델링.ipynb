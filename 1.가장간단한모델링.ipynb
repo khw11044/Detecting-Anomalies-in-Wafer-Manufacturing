{
 "cells": [
  {
   "cell_type": "markdown",
   "metadata": {},
   "source": [
    "## 특별한 처리 없이 Oversampling으로 불균형 데이터 예측 모델링 수행하기"
   ]
  },
  {
   "cell_type": "markdown",
   "metadata": {},
   "source": [
    "PCA, t-SNE 등 차원축소를 통해 불필요한 feature들을 제거하거나 \n",
    "\n",
    "feature들의 관계를 분석하고 결과에 유의미한 영향을 주는 feature들을 알아내거나 \n",
    "\n",
    "설명가능한 분석이 필요하다. \n",
    "\n",
    "그러나 단순히 불량인지 아닌지만 예측하기 위해서 다음과 같은 Oversampling을 통해 모델링을 수행할 수 있다.\n",
    "\n",
    "\n"
   ]
  },
  {
   "cell_type": "code",
   "execution_count": 43,
   "metadata": {},
   "outputs": [],
   "source": [
    "import os\n",
    "\n",
    "import numpy as np \n",
    "# 데이터를 다루고 시각화 하기 위한 라이브러리 \n",
    "import pandas as pd # data processing, CSV file I/O (e.g. pd.read_csv)\n",
    "import seaborn as sns\n",
    "import matplotlib.pyplot as plt\n",
    "%matplotlib inline\n",
    "from mpl_toolkits.mplot3d import Axes3D\n",
    "\n",
    "\n",
    "from imblearn.over_sampling import SMOTE                # over sampling을 위해 \n",
    "from sklearn.model_selection import train_test_split    # trainset과 testset 나누기 위해\n",
    "\n",
    "# 차원축소를 위해 \n",
    "from sklearn.decomposition import PCA\n",
    "from sklearn.manifold import TSNE"
   ]
  },
  {
   "cell_type": "markdown",
   "metadata": {},
   "source": [
    "# 데이터 불러오기"
   ]
  },
  {
   "cell_type": "code",
   "execution_count": 44,
   "metadata": {},
   "outputs": [],
   "source": [
    "data_base_path = './data'\n",
    "\n",
    "test_data_path = os.path.join(data_base_path, 'Test.csv')\n",
    "train_data_path = os.path.join(data_base_path, 'Train.csv')\n",
    "submit_path = os.path.join(data_base_path, 'Sample_submission.csv')\n",
    "\n",
    "test = pd.read_csv(test_data_path)\n",
    "train = pd.read_csv(train_data_path)\n",
    "submit = pd.read_csv(submit_path)"
   ]
  },
  {
   "cell_type": "code",
   "execution_count": 45,
   "metadata": {},
   "outputs": [],
   "source": [
    "X = train.drop(\"Class\", axis = 1)\n",
    "y = train[\"Class\"]"
   ]
  },
  {
   "cell_type": "code",
   "execution_count": 46,
   "metadata": {},
   "outputs": [
    {
     "data": {
      "text/plain": [
       "((1410, 1558), (353, 1558), (1410,), (353,))"
      ]
     },
     "execution_count": 46,
     "metadata": {},
     "output_type": "execute_result"
    }
   ],
   "source": [
    "X_train, X_valid, y_train, y_valid = train_test_split(X, y, test_size = 0.2, random_state=0)\n",
    "X_train.shape, X_valid.shape, y_train.shape, y_valid.shape"
   ]
  },
  {
   "cell_type": "code",
   "execution_count": 47,
   "metadata": {},
   "outputs": [],
   "source": [
    "from sklearn.ensemble import RandomForestClassifier\n",
    "import catboost\n",
    "from sklearn.metrics import roc_auc_score, accuracy_score\n",
    "from sklearn.model_selection import cross_val_score\n",
    "from sklearn.metrics import classification_report, roc_auc_score"
   ]
  },
  {
   "cell_type": "code",
   "execution_count": 48,
   "metadata": {},
   "outputs": [],
   "source": [
    "Rf = RandomForestClassifier(random_state=0)\n",
    "model_Rf = Rf.fit(X_train, y_train)\n"
   ]
  },
  {
   "cell_type": "code",
   "execution_count": 49,
   "metadata": {},
   "outputs": [
    {
     "name": "stdout",
     "output_type": "stream",
     "text": [
      "cv_score : [0.92907801 0.93617021 0.88652482 0.87943262 0.88652482 0.90070922\n",
      " 0.91489362 0.90070922 0.91489362 0.90070922]\n",
      "mean cv_score : 0.9049645390070922\n",
      "              precision    recall  f1-score   support\n",
      "\n",
      "           0       0.95      0.96      0.96       327\n",
      "           1       0.44      0.42      0.43        26\n",
      "\n",
      "    accuracy                           0.92       353\n",
      "   macro avg       0.70      0.69      0.69       353\n",
      "weighted avg       0.92      0.92      0.92       353\n",
      "\n",
      "Acc Score : 0.9178470254957507\n",
      "AUC Score : 0.6901317337097154\n",
      "0.9316631380851564\n"
     ]
    }
   ],
   "source": [
    "# K-Fold CV로 성능을 검증\n",
    "cv_score = cross_val_score(model_Rf, X_train, y_train, cv=10)\n",
    "print('cv_score :', cv_score)\n",
    "print('mean cv_score :', cv_score.mean())\n",
    "\n",
    "# 4단계: 예측하기\n",
    "y_pred = model_Rf.predict(X_valid)\n",
    "\n",
    "# 5단계 평가하기\n",
    "print(classification_report(y_valid, y_pred))\n",
    "print('Acc Score :', accuracy_score(y_valid, y_pred))\n",
    "print('AUC Score :', roc_auc_score(y_valid, y_pred))\n",
    "\n",
    "predictions = model_Rf.predict_proba(X_valid)[:, -1]\n",
    "score = roc_auc_score(y_valid, predictions)\n",
    "print(score)"
   ]
  },
  {
   "cell_type": "markdown",
   "metadata": {},
   "source": [
    "SMOTE를 통한 Oversampling\n",
    "\n",
    "https://mkjjo.github.io/python/2019/01/04/smote_duplicate.html"
   ]
  },
  {
   "cell_type": "code",
   "execution_count": 50,
   "metadata": {},
   "outputs": [],
   "source": [
    "Sm = SMOTE()\n",
    "X = train.drop(\"Class\", axis = 1)\n",
    "y = train[\"Class\"]"
   ]
  },
  {
   "cell_type": "code",
   "execution_count": 51,
   "metadata": {},
   "outputs": [
    {
     "data": {
      "text/plain": [
       "((1410, 1558), (353, 1558), (1410,), (353,))"
      ]
     },
     "execution_count": 51,
     "metadata": {},
     "output_type": "execute_result"
    }
   ],
   "source": [
    "X_train, X_valid, y_train, y_valid = train_test_split(X, y, test_size = 0.2, random_state=0)\n",
    "X_train.shape, X_valid.shape, y_train.shape, y_valid.shape"
   ]
  },
  {
   "cell_type": "code",
   "execution_count": 52,
   "metadata": {},
   "outputs": [
    {
     "data": {
      "text/plain": [
       "((2586, 1558),\n",
       " (2586,),\n",
       " Class\n",
       " 0    1293\n",
       " 1    1293\n",
       " Name: count, dtype: int64)"
      ]
     },
     "execution_count": 52,
     "metadata": {},
     "output_type": "execute_result"
    }
   ],
   "source": [
    "x_train, y_train = Sm.fit_resample(X_train, y_train)\n",
    "x_train.shape, y_train.shape, y_train.value_counts()\n",
    "# Oversampling을 통해 0과 1 클래스가 균형을 잡았다."
   ]
  },
  {
   "cell_type": "code",
   "execution_count": 54,
   "metadata": {},
   "outputs": [],
   "source": [
    "x_train_re, x_valid_re, y_train_re, y_valid_re = train_test_split(x_train, y_train, test_size = 0.2, random_state=0)"
   ]
  },
  {
   "cell_type": "code",
   "execution_count": 55,
   "metadata": {},
   "outputs": [],
   "source": [
    "Rf = RandomForestClassifier(random_state=0)\n",
    "model_Rf = Rf.fit(x_train_re, y_train_re)\n"
   ]
  },
  {
   "cell_type": "code",
   "execution_count": 56,
   "metadata": {},
   "outputs": [
    {
     "name": "stdout",
     "output_type": "stream",
     "text": [
      "cv_score : [0.90338164 0.93719807 0.92270531 0.90338164 0.9178744  0.90338164\n",
      " 0.91304348 0.91304348 0.90776699 0.94174757]\n",
      "mean cv_score : 0.9163524224942545\n",
      "              precision    recall  f1-score   support\n",
      "\n",
      "           0       0.96      0.88      0.92       241\n",
      "           1       0.90      0.97      0.93       277\n",
      "\n",
      "    accuracy                           0.93       518\n",
      "   macro avg       0.93      0.92      0.93       518\n",
      "weighted avg       0.93      0.93      0.93       518\n",
      "\n",
      "Acc Score : 0.9266409266409267\n",
      "AUC Score : 0.9233189028865887\n",
      "0.9808259807960213\n"
     ]
    }
   ],
   "source": [
    "# K-Fold CV로 성능을 검증\n",
    "cv_score = cross_val_score(model_Rf, x_train_re, y_train_re, cv=10)\n",
    "print('cv_score :', cv_score)\n",
    "print('mean cv_score :', cv_score.mean())\n",
    "\n",
    "# 예측하기\n",
    "y_pred = model_Rf.predict(x_valid_re)\n",
    "\n",
    "# 평가하기\n",
    "print(classification_report(y_valid_re, y_pred))\n",
    "print('Acc Score :', accuracy_score(y_valid_re, y_pred))\n",
    "print('AUC Score :', roc_auc_score(y_valid_re, y_pred))\n",
    "\n",
    "predictions = model_Rf.predict_proba(x_valid_re)[:, -1]\n",
    "\n",
    "score = roc_auc_score(y_valid_re, predictions)\n",
    "print(score)"
   ]
  },
  {
   "cell_type": "markdown",
   "metadata": {},
   "source": [
    "성능이 상당하다. 그렇다면 원본 train의 valid에 대해서도 잘 분류하는지 확인해보자."
   ]
  },
  {
   "cell_type": "code",
   "execution_count": 14,
   "metadata": {},
   "outputs": [
    {
     "name": "stdout",
     "output_type": "stream",
     "text": [
      "              precision    recall  f1-score   support\n",
      "\n",
      "           0       0.96      0.85      0.90       327\n",
      "           1       0.23      0.58      0.33        26\n",
      "\n",
      "    accuracy                           0.83       353\n",
      "   macro avg       0.60      0.71      0.62       353\n",
      "weighted avg       0.91      0.83      0.86       353\n",
      "\n",
      "Acc Score : 0.8271954674220963\n",
      "AUC Score : 0.7120089390731592\n",
      "0.8549752999294283\n"
     ]
    }
   ],
   "source": [
    "# 4단계: 예측하기\n",
    "y_pred = model_Rf.predict(X_valid)\n",
    "\n",
    "# 5단계 평가하기\n",
    "print(classification_report(y_valid, y_pred))\n",
    "print('Acc Score :', accuracy_score(y_valid, y_pred))\n",
    "print('AUC Score :', roc_auc_score(y_valid, y_pred))\n",
    "\n",
    "predictions = model_Rf.predict_proba(X_valid)[:, -1]\n",
    "\n",
    "score = roc_auc_score(y_valid, predictions)\n",
    "print(score)"
   ]
  },
  {
   "cell_type": "markdown",
   "metadata": {},
   "source": [
    "Oversampling하기 전보다 확실히 성능이 좋아지긴 하였다.\n",
    "\n",
    "그러나 역시 정확한 예측이 어려움을 볼수있다. 그렇다면 차원축소를 수행해보자."
   ]
  },
  {
   "cell_type": "markdown",
   "metadata": {},
   "source": [
    "0.exploratory_analysis.ipynb에서 \n",
    "\n",
    "Feature들의 값이 중복되거나 한쪽 값에 너무 치우쳐진 컬럼은 제거하였다.\n",
    "\n",
    "줄인 feature로 모델링을 수행해보자."
   ]
  },
  {
   "cell_type": "code",
   "execution_count": 15,
   "metadata": {},
   "outputs": [
    {
     "data": {
      "text/plain": [
       "(1763, 1559)"
      ]
     },
     "execution_count": 15,
     "metadata": {},
     "output_type": "execute_result"
    }
   ],
   "source": [
    "train.shape"
   ]
  },
  {
   "cell_type": "code",
   "execution_count": 16,
   "metadata": {},
   "outputs": [
    {
     "data": {
      "text/plain": [
       "(1763, 730)"
      ]
     },
     "execution_count": 16,
     "metadata": {},
     "output_type": "execute_result"
    }
   ],
   "source": [
    "train_filter = train.T.drop_duplicates().T\n",
    "\n",
    "train_filter.shape"
   ]
  },
  {
   "cell_type": "code",
   "execution_count": 17,
   "metadata": {},
   "outputs": [
    {
     "data": {
      "text/html": [
       "<div>\n",
       "<style scoped>\n",
       "    .dataframe tbody tr th:only-of-type {\n",
       "        vertical-align: middle;\n",
       "    }\n",
       "\n",
       "    .dataframe tbody tr th {\n",
       "        vertical-align: top;\n",
       "    }\n",
       "\n",
       "    .dataframe thead th {\n",
       "        text-align: right;\n",
       "    }\n",
       "</style>\n",
       "<table border=\"1\" class=\"dataframe\">\n",
       "  <thead>\n",
       "    <tr style=\"text-align: right;\">\n",
       "      <th></th>\n",
       "      <th>0</th>\n",
       "    </tr>\n",
       "  </thead>\n",
       "  <tbody>\n",
       "    <tr>\n",
       "      <th>feature_1</th>\n",
       "      <td>0</td>\n",
       "    </tr>\n",
       "    <tr>\n",
       "      <th>feature_2</th>\n",
       "      <td>0</td>\n",
       "    </tr>\n",
       "    <tr>\n",
       "      <th>feature_3</th>\n",
       "      <td>0</td>\n",
       "    </tr>\n",
       "    <tr>\n",
       "      <th>feature_4</th>\n",
       "      <td>486</td>\n",
       "    </tr>\n",
       "    <tr>\n",
       "      <th>feature_5</th>\n",
       "      <td>1758</td>\n",
       "    </tr>\n",
       "    <tr>\n",
       "      <th>...</th>\n",
       "      <td>...</td>\n",
       "    </tr>\n",
       "    <tr>\n",
       "      <th>feature_1554</th>\n",
       "      <td>1756</td>\n",
       "    </tr>\n",
       "    <tr>\n",
       "      <th>feature_1555</th>\n",
       "      <td>1736</td>\n",
       "    </tr>\n",
       "    <tr>\n",
       "      <th>feature_1557</th>\n",
       "      <td>1746</td>\n",
       "    </tr>\n",
       "    <tr>\n",
       "      <th>feature_1558</th>\n",
       "      <td>1761</td>\n",
       "    </tr>\n",
       "    <tr>\n",
       "      <th>Class</th>\n",
       "      <td>1620</td>\n",
       "    </tr>\n",
       "  </tbody>\n",
       "</table>\n",
       "<p>730 rows × 1 columns</p>\n",
       "</div>"
      ],
      "text/plain": [
       "                 0\n",
       "feature_1        0\n",
       "feature_2        0\n",
       "feature_3        0\n",
       "feature_4      486\n",
       "feature_5     1758\n",
       "...            ...\n",
       "feature_1554  1756\n",
       "feature_1555  1736\n",
       "feature_1557  1746\n",
       "feature_1558  1761\n",
       "Class         1620\n",
       "\n",
       "[730 rows x 1 columns]"
      ]
     },
     "execution_count": 17,
     "metadata": {},
     "output_type": "execute_result"
    }
   ],
   "source": [
    "df = pd.DataFrame((train_filter == 0).astype(int).sum(axis=0))\n",
    "\n",
    "df"
   ]
  },
  {
   "cell_type": "code",
   "execution_count": 18,
   "metadata": {},
   "outputs": [
    {
     "data": {
      "text/plain": [
       "1710.11"
      ]
     },
     "execution_count": 18,
     "metadata": {},
     "output_type": "execute_result"
    }
   ],
   "source": [
    "len(train_filter)*0.97"
   ]
  },
  {
   "cell_type": "code",
   "execution_count": 19,
   "metadata": {},
   "outputs": [
    {
     "name": "stdout",
     "output_type": "stream",
     "text": [
      "681\n"
     ]
    }
   ],
   "source": [
    "all_zero = df[df[0]>len(train_filter)*0.97].index\n",
    "\n",
    "print(len(all_zero))"
   ]
  },
  {
   "cell_type": "code",
   "execution_count": 20,
   "metadata": {},
   "outputs": [
    {
     "data": {
      "text/plain": [
       "(1763, 49)"
      ]
     },
     "execution_count": 20,
     "metadata": {},
     "output_type": "execute_result"
    }
   ],
   "source": [
    "train_filter2 = train_filter.drop(all_zero,axis=1)\n",
    "\n",
    "train_filter2.shape\n",
    "# 49개까지 줄일 수 있었다."
   ]
  },
  {
   "cell_type": "code",
   "execution_count": 21,
   "metadata": {},
   "outputs": [],
   "source": [
    "X = train_filter2.drop(\"Class\", axis = 1)\n",
    "y = train_filter2[\"Class\"]"
   ]
  },
  {
   "cell_type": "code",
   "execution_count": 22,
   "metadata": {},
   "outputs": [
    {
     "data": {
      "text/plain": [
       "((1410, 48), (353, 48), (1410,), (353,))"
      ]
     },
     "execution_count": 22,
     "metadata": {},
     "output_type": "execute_result"
    }
   ],
   "source": [
    "X_train, X_valid, y_train, y_valid = train_test_split(X, y, test_size = 0.2, random_state=0)\n",
    "X_train.shape, X_valid.shape, y_train.shape, y_valid.shape"
   ]
  },
  {
   "cell_type": "code",
   "execution_count": 23,
   "metadata": {},
   "outputs": [],
   "source": [
    "Rf = RandomForestClassifier(random_state=0)\n",
    "model_Rf = Rf.fit(X_train, y_train)\n"
   ]
  },
  {
   "cell_type": "code",
   "execution_count": 24,
   "metadata": {},
   "outputs": [
    {
     "name": "stdout",
     "output_type": "stream",
     "text": [
      "cv_score : [0.90070922 0.95035461 0.90070922 0.89361702 0.90070922 0.94326241\n",
      " 0.93617021 0.90070922 0.95035461 0.90070922]\n",
      "mean cv_score : 0.9177304964539006\n",
      "              precision    recall  f1-score   support\n",
      "\n",
      "         0.0       0.96      0.97      0.96       327\n",
      "         1.0       0.55      0.46      0.50        26\n",
      "\n",
      "    accuracy                           0.93       353\n",
      "   macro avg       0.75      0.72      0.73       353\n",
      "weighted avg       0.93      0.93      0.93       353\n",
      "\n",
      "Acc Score : 0.9320113314447592\n",
      "AUC Score : 0.715478710891555\n",
      "0.9036697247706422\n"
     ]
    }
   ],
   "source": [
    "# K-Fold CV로 성능을 검증\n",
    "cv_score = cross_val_score(model_Rf, X_train, y_train, cv=10)\n",
    "print('cv_score :', cv_score)\n",
    "print('mean cv_score :', cv_score.mean())\n",
    "\n",
    "# 4단계: 예측하기\n",
    "y_pred = model_Rf.predict(X_valid)\n",
    "\n",
    "# 5단계 평가하기\n",
    "print(classification_report(y_valid, y_pred))\n",
    "print('Acc Score :', accuracy_score(y_valid, y_pred))\n",
    "print('AUC Score :', roc_auc_score(y_valid, y_pred))\n",
    "\n",
    "predictions = model_Rf.predict_proba(X_valid)[:, -1]\n",
    "score = roc_auc_score(y_valid, predictions)\n",
    "print(score)"
   ]
  },
  {
   "cell_type": "markdown",
   "metadata": {},
   "source": [
    "Oversampling안 했을때와 비교하면 성능이 증가하였다. \n",
    "\n",
    "AUC 0.69 -> 0.71"
   ]
  },
  {
   "cell_type": "markdown",
   "metadata": {},
   "source": [
    "### 이번에는 차원을 줄이고 Oversampling을 해보자."
   ]
  },
  {
   "cell_type": "code",
   "execution_count": 25,
   "metadata": {},
   "outputs": [],
   "source": [
    "Sm = SMOTE()\n",
    "X = train_filter2.drop(\"Class\", axis = 1)\n",
    "y = train_filter2[\"Class\"]"
   ]
  },
  {
   "cell_type": "code",
   "execution_count": 26,
   "metadata": {},
   "outputs": [
    {
     "data": {
      "text/plain": [
       "((1410, 48), (353, 48), (1410,), (353,))"
      ]
     },
     "execution_count": 26,
     "metadata": {},
     "output_type": "execute_result"
    }
   ],
   "source": [
    "X_train, X_valid, y_train, y_valid = train_test_split(X, y, test_size = 0.2, random_state=0)\n",
    "X_train.shape, X_valid.shape, y_train.shape, y_valid.shape"
   ]
  },
  {
   "cell_type": "code",
   "execution_count": 27,
   "metadata": {},
   "outputs": [
    {
     "data": {
      "text/plain": [
       "((2586, 48),\n",
       " (2586,),\n",
       " Class\n",
       " 0.0    1293\n",
       " 1.0    1293\n",
       " Name: count, dtype: int64)"
      ]
     },
     "execution_count": 27,
     "metadata": {},
     "output_type": "execute_result"
    }
   ],
   "source": [
    "x_train, y_train = Sm.fit_resample(X_train, y_train)\n",
    "x_train.shape, y_train.shape, y_train.value_counts()\n",
    "# Oversampling을 통해 0과 1 클래스가 균형을 잡았다."
   ]
  },
  {
   "cell_type": "code",
   "execution_count": 28,
   "metadata": {},
   "outputs": [],
   "source": [
    "x_train_re, x_valid_re, y_train_re, y_valid_re = train_test_split(x_train, y_train, test_size = 0.2, random_state=0)"
   ]
  },
  {
   "cell_type": "code",
   "execution_count": 30,
   "metadata": {},
   "outputs": [],
   "source": [
    "Rf = RandomForestClassifier(random_state=0)\n",
    "model_Rf = Rf.fit(x_train_re, y_train_re)\n"
   ]
  },
  {
   "cell_type": "code",
   "execution_count": 32,
   "metadata": {},
   "outputs": [
    {
     "name": "stdout",
     "output_type": "stream",
     "text": [
      "cv_score : [0.96618357 0.98067633 0.97101449 0.96618357 0.95652174 0.93719807\n",
      " 0.95169082 0.9468599  0.96116505 0.96116505]\n",
      "mean cv_score : 0.9598658599502837\n",
      "              precision    recall  f1-score   support\n",
      "\n",
      "         0.0       0.95      0.96      0.95       241\n",
      "         1.0       0.96      0.95      0.96       277\n",
      "\n",
      "    accuracy                           0.96       518\n",
      "   macro avg       0.96      0.96      0.96       518\n",
      "weighted avg       0.96      0.96      0.96       518\n",
      "\n",
      "Acc Score : 0.9555984555984556\n",
      "AUC Score : 0.955787408062076\n",
      "0.9796575640007789\n"
     ]
    }
   ],
   "source": [
    "# K-Fold CV로 성능을 검증\n",
    "cv_score = cross_val_score(model_Rf, x_train_re, y_train_re, cv=10)\n",
    "print('cv_score :', cv_score)\n",
    "print('mean cv_score :', cv_score.mean())\n",
    "\n",
    "# 4단계: 예측하기\n",
    "y_pred = model_Rf.predict(x_valid_re)\n",
    "\n",
    "# 5단계 평가하기\n",
    "print(classification_report(y_valid_re, y_pred))\n",
    "print('Acc Score :', accuracy_score(y_valid_re, y_pred))\n",
    "print('AUC Score :', roc_auc_score(y_valid_re, y_pred))\n",
    "\n",
    "predictions = model_Rf.predict_proba(x_valid_re)[:, -1]\n",
    "\n",
    "score = roc_auc_score(y_valid_re, predictions)\n",
    "print(score)"
   ]
  },
  {
   "cell_type": "markdown",
   "metadata": {},
   "source": [
    "그냥 Oversamping할때보다 성능이 좋아졌다.\n",
    "\n",
    "AUC 0.92 -> 0.95\n",
    "\n",
    "그럼 이번에는 Oversampling으로 학습한 모델이 일반 데이터셋에 대해서도 잘 예측하는지 알아보자."
   ]
  },
  {
   "cell_type": "code",
   "execution_count": 33,
   "metadata": {},
   "outputs": [
    {
     "name": "stdout",
     "output_type": "stream",
     "text": [
      "              precision    recall  f1-score   support\n",
      "\n",
      "         0.0       0.97      0.94      0.95       327\n",
      "         1.0       0.43      0.62      0.51        26\n",
      "\n",
      "    accuracy                           0.91       353\n",
      "   macro avg       0.70      0.78      0.73       353\n",
      "weighted avg       0.93      0.91      0.92       353\n",
      "\n",
      "Acc Score : 0.9121813031161473\n",
      "AUC Score : 0.7755822159491884\n",
      "0.8980239943542696\n"
     ]
    }
   ],
   "source": [
    "# 4단계: 예측하기\n",
    "y_pred = model_Rf.predict(X_valid)\n",
    "\n",
    "# 5단계 평가하기\n",
    "print(classification_report(y_valid, y_pred))\n",
    "print('Acc Score :', accuracy_score(y_valid, y_pred))\n",
    "print('AUC Score :', roc_auc_score(y_valid, y_pred))\n",
    "\n",
    "predictions = model_Rf.predict_proba(X_valid)[:, -1]\n",
    "\n",
    "score = roc_auc_score(y_valid, predictions)\n",
    "print(score)"
   ]
  },
  {
   "cell_type": "markdown",
   "metadata": {},
   "source": [
    "역시 그냥 Oversampling을 수행하고 일반 데이터에 대해 평가하였을 때보다 \n",
    "\n",
    "차원을 줄이고 Oversampling 한 이후 학습하고 일반 데이터에 대해 평가였을 때 성능이 증가하였다. \n",
    "\n",
    "AUC 0.71 -> 0.77\n"
   ]
  },
  {
   "cell_type": "markdown",
   "metadata": {},
   "source": [
    "### 성능을 올리는데 집중해보자"
   ]
  },
  {
   "cell_type": "code",
   "execution_count": 34,
   "metadata": {},
   "outputs": [
    {
     "data": {
      "text/plain": [
       "((1234, 48), (264, 48), (265, 48), (1234,), (264,), (265,))"
      ]
     },
     "execution_count": 34,
     "metadata": {},
     "output_type": "execute_result"
    }
   ],
   "source": [
    "X = train_filter2.drop(\"Class\", axis = 1)\n",
    "y = train_filter2[\"Class\"]\n",
    "\n",
    "X_train, X_valid , y_train, y_valid = train_test_split(X, y, test_size = 0.3, stratify = y)\n",
    "X_valid, X_test , y_valid, y_test = train_test_split(X_valid, y_valid, test_size = 0.5, stratify = y_valid)\n",
    "\n",
    "X_train.shape, X_valid.shape, X_test.shape, y_train.shape, y_valid.shape, y_test.shape"
   ]
  },
  {
   "cell_type": "code",
   "execution_count": 35,
   "metadata": {},
   "outputs": [],
   "source": [
    "from xgboost import XGBClassifier"
   ]
  },
  {
   "cell_type": "code",
   "execution_count": 36,
   "metadata": {},
   "outputs": [],
   "source": [
    "model = XGBClassifier(silent=True,\n",
    "                      booster = 'gbtree',\n",
    "                      scale_pos_weight=5,\n",
    "                      learning_rate=0.01,  \n",
    "                      colsample_bytree = 0.7,\n",
    "                      subsample = 0.5,\n",
    "                      max_delta_step = 3,\n",
    "                      reg_lambda = 2,\n",
    "                      objective='binary:logistic',\n",
    "                      \n",
    "                      n_estimators=818, \n",
    "                      max_depth=8,\n",
    "                     )"
   ]
  },
  {
   "cell_type": "code",
   "execution_count": 37,
   "metadata": {},
   "outputs": [
    {
     "name": "stdout",
     "output_type": "stream",
     "text": [
      "[0]\tvalidation_0-logloss:0.43748\n",
      "[1]\tvalidation_0-logloss:0.43502\n",
      "[2]\tvalidation_0-logloss:0.43169\n",
      "[3]\tvalidation_0-logloss:0.42900\n",
      "[4]\tvalidation_0-logloss:0.42591\n",
      "[5]\tvalidation_0-logloss:0.42305\n",
      "[6]\tvalidation_0-logloss:0.42024\n",
      "[7]\tvalidation_0-logloss:0.41794\n",
      "[8]\tvalidation_0-logloss:0.41550\n",
      "[9]\tvalidation_0-logloss:0.41315\n",
      "[10]\tvalidation_0-logloss:0.41035\n",
      "[11]\tvalidation_0-logloss:0.40793\n",
      "[12]\tvalidation_0-logloss:0.40520\n",
      "[13]\tvalidation_0-logloss:0.40264\n",
      "[14]\tvalidation_0-logloss:0.40026\n",
      "[15]\tvalidation_0-logloss:0.39812\n",
      "[16]\tvalidation_0-logloss:0.39550\n",
      "[17]\tvalidation_0-logloss:0.39341\n",
      "[18]\tvalidation_0-logloss:0.39121\n",
      "[19]\tvalidation_0-logloss:0.38892\n",
      "[20]\tvalidation_0-logloss:0.38648\n",
      "[21]\tvalidation_0-logloss:0.38459\n",
      "[22]\tvalidation_0-logloss:0.38277\n",
      "[23]\tvalidation_0-logloss:0.38060\n",
      "[24]\tvalidation_0-logloss:0.37859\n",
      "[25]\tvalidation_0-logloss:0.37646\n",
      "[26]\tvalidation_0-logloss:0.37408\n",
      "[27]\tvalidation_0-logloss:0.37217\n",
      "[28]\tvalidation_0-logloss:0.36997\n",
      "[29]\tvalidation_0-logloss:0.36818\n",
      "[30]\tvalidation_0-logloss:0.36628\n",
      "[31]\tvalidation_0-logloss:0.36459\n",
      "[32]\tvalidation_0-logloss:0.36229\n",
      "[33]\tvalidation_0-logloss:0.36042\n",
      "[34]\tvalidation_0-logloss:0.35853\n",
      "[35]\tvalidation_0-logloss:0.35699\n",
      "[36]\tvalidation_0-logloss:0.35497\n",
      "[37]\tvalidation_0-logloss:0.35360\n",
      "[38]\tvalidation_0-logloss:0.35183\n",
      "[39]\tvalidation_0-logloss:0.35028\n",
      "[40]\tvalidation_0-logloss:0.34870\n",
      "[41]\tvalidation_0-logloss:0.34708\n",
      "[42]\tvalidation_0-logloss:0.34577\n",
      "[43]\tvalidation_0-logloss:0.34445\n",
      "[44]\tvalidation_0-logloss:0.34271\n",
      "[45]\tvalidation_0-logloss:0.34103\n",
      "[46]\tvalidation_0-logloss:0.33971\n",
      "[47]\tvalidation_0-logloss:0.33801\n",
      "[48]\tvalidation_0-logloss:0.33620\n",
      "[49]\tvalidation_0-logloss:0.33454\n",
      "[50]\tvalidation_0-logloss:0.33284\n",
      "[51]\tvalidation_0-logloss:0.33151\n",
      "[52]\tvalidation_0-logloss:0.33027\n",
      "[53]\tvalidation_0-logloss:0.32876\n",
      "[54]\tvalidation_0-logloss:0.32703\n",
      "[55]\tvalidation_0-logloss:0.32599\n",
      "[56]\tvalidation_0-logloss:0.32461\n",
      "[57]\tvalidation_0-logloss:0.32310\n",
      "[58]\tvalidation_0-logloss:0.32180\n",
      "[59]\tvalidation_0-logloss:0.32040\n",
      "[60]\tvalidation_0-logloss:0.31914\n",
      "[61]\tvalidation_0-logloss:0.31762\n",
      "[62]\tvalidation_0-logloss:0.31649\n",
      "[63]\tvalidation_0-logloss:0.31530\n",
      "[64]\tvalidation_0-logloss:0.31391\n",
      "[65]\tvalidation_0-logloss:0.31281\n",
      "[66]\tvalidation_0-logloss:0.31179\n",
      "[67]\tvalidation_0-logloss:0.31056\n",
      "[68]\tvalidation_0-logloss:0.30938\n",
      "[69]\tvalidation_0-logloss:0.30805\n",
      "[70]\tvalidation_0-logloss:0.30674\n",
      "[71]\tvalidation_0-logloss:0.30578\n",
      "[72]\tvalidation_0-logloss:0.30450\n",
      "[73]\tvalidation_0-logloss:0.30349\n",
      "[74]\tvalidation_0-logloss:0.30273\n",
      "[75]\tvalidation_0-logloss:0.30168\n",
      "[76]\tvalidation_0-logloss:0.30061\n",
      "[77]\tvalidation_0-logloss:0.29931\n",
      "[78]\tvalidation_0-logloss:0.29808\n",
      "[79]\tvalidation_0-logloss:0.29692\n",
      "[80]\tvalidation_0-logloss:0.29625\n",
      "[81]\tvalidation_0-logloss:0.29509\n",
      "[82]\tvalidation_0-logloss:0.29403\n",
      "[83]\tvalidation_0-logloss:0.29331\n",
      "[84]\tvalidation_0-logloss:0.29208\n",
      "[85]\tvalidation_0-logloss:0.29116\n",
      "[86]\tvalidation_0-logloss:0.29040\n",
      "[87]\tvalidation_0-logloss:0.28974\n",
      "[88]\tvalidation_0-logloss:0.28884\n",
      "[89]\tvalidation_0-logloss:0.28767\n",
      "[90]\tvalidation_0-logloss:0.28699\n",
      "[91]\tvalidation_0-logloss:0.28602\n",
      "[92]\tvalidation_0-logloss:0.28521\n",
      "[93]\tvalidation_0-logloss:0.28419\n",
      "[94]\tvalidation_0-logloss:0.28313\n",
      "[95]\tvalidation_0-logloss:0.28213\n",
      "[96]\tvalidation_0-logloss:0.28150\n",
      "[97]\tvalidation_0-logloss:0.28080\n",
      "[98]\tvalidation_0-logloss:0.27995\n",
      "[99]\tvalidation_0-logloss:0.27931\n",
      "[100]\tvalidation_0-logloss:0.27850\n",
      "[101]\tvalidation_0-logloss:0.27767\n",
      "[102]\tvalidation_0-logloss:0.27673\n",
      "[103]\tvalidation_0-logloss:0.27589\n",
      "[104]\tvalidation_0-logloss:0.27515\n",
      "[105]\tvalidation_0-logloss:0.27438\n",
      "[106]\tvalidation_0-logloss:0.27379\n",
      "[107]\tvalidation_0-logloss:0.27321\n",
      "[108]\tvalidation_0-logloss:0.27239\n",
      "[109]\tvalidation_0-logloss:0.27134\n",
      "[110]\tvalidation_0-logloss:0.27066\n",
      "[111]\tvalidation_0-logloss:0.26993\n",
      "[112]\tvalidation_0-logloss:0.26918\n",
      "[113]\tvalidation_0-logloss:0.26846\n",
      "[114]\tvalidation_0-logloss:0.26783\n",
      "[115]\tvalidation_0-logloss:0.26738\n",
      "[116]\tvalidation_0-logloss:0.26659\n",
      "[117]\tvalidation_0-logloss:0.26589\n",
      "[118]\tvalidation_0-logloss:0.26548\n",
      "[119]\tvalidation_0-logloss:0.26484\n",
      "[120]\tvalidation_0-logloss:0.26435\n",
      "[121]\tvalidation_0-logloss:0.26382\n",
      "[122]\tvalidation_0-logloss:0.26342\n",
      "[123]\tvalidation_0-logloss:0.26275\n",
      "[124]\tvalidation_0-logloss:0.26245\n",
      "[125]\tvalidation_0-logloss:0.26218\n",
      "[126]\tvalidation_0-logloss:0.26141\n",
      "[127]\tvalidation_0-logloss:0.26047\n",
      "[128]\tvalidation_0-logloss:0.25993\n",
      "[129]\tvalidation_0-logloss:0.25942\n",
      "[130]\tvalidation_0-logloss:0.25875\n",
      "[131]\tvalidation_0-logloss:0.25826\n",
      "[132]\tvalidation_0-logloss:0.25762\n",
      "[133]\tvalidation_0-logloss:0.25693\n",
      "[134]\tvalidation_0-logloss:0.25642\n",
      "[135]\tvalidation_0-logloss:0.25594\n",
      "[136]\tvalidation_0-logloss:0.25498\n",
      "[137]\tvalidation_0-logloss:0.25477\n",
      "[138]\tvalidation_0-logloss:0.25447\n",
      "[139]\tvalidation_0-logloss:0.25387\n",
      "[140]\tvalidation_0-logloss:0.25362\n",
      "[141]\tvalidation_0-logloss:0.25337\n",
      "[142]\tvalidation_0-logloss:0.25280\n",
      "[143]\tvalidation_0-logloss:0.25244\n",
      "[144]\tvalidation_0-logloss:0.25186\n",
      "[145]\tvalidation_0-logloss:0.25125\n",
      "[146]\tvalidation_0-logloss:0.25065\n",
      "[147]\tvalidation_0-logloss:0.25019\n",
      "[148]\tvalidation_0-logloss:0.24980\n",
      "[149]\tvalidation_0-logloss:0.24930\n",
      "[150]\tvalidation_0-logloss:0.24877\n",
      "[151]\tvalidation_0-logloss:0.24809\n",
      "[152]\tvalidation_0-logloss:0.24765\n",
      "[153]\tvalidation_0-logloss:0.24735\n",
      "[154]\tvalidation_0-logloss:0.24697\n",
      "[155]\tvalidation_0-logloss:0.24627\n",
      "[156]\tvalidation_0-logloss:0.24590\n",
      "[157]\tvalidation_0-logloss:0.24558\n",
      "[158]\tvalidation_0-logloss:0.24527\n",
      "[159]\tvalidation_0-logloss:0.24469\n",
      "[160]\tvalidation_0-logloss:0.24419\n",
      "[161]\tvalidation_0-logloss:0.24385\n",
      "[162]\tvalidation_0-logloss:0.24394\n",
      "[163]\tvalidation_0-logloss:0.24311\n",
      "[164]\tvalidation_0-logloss:0.24276\n",
      "[165]\tvalidation_0-logloss:0.24247\n",
      "[166]\tvalidation_0-logloss:0.24222\n",
      "[167]\tvalidation_0-logloss:0.24193\n",
      "[168]\tvalidation_0-logloss:0.24157\n",
      "[169]\tvalidation_0-logloss:0.24124\n",
      "[170]\tvalidation_0-logloss:0.24103\n",
      "[171]\tvalidation_0-logloss:0.24067\n",
      "[172]\tvalidation_0-logloss:0.24018\n",
      "[173]\tvalidation_0-logloss:0.23994\n",
      "[174]\tvalidation_0-logloss:0.23983\n",
      "[175]\tvalidation_0-logloss:0.23968\n",
      "[176]\tvalidation_0-logloss:0.23944\n",
      "[177]\tvalidation_0-logloss:0.23908\n",
      "[178]\tvalidation_0-logloss:0.23880\n",
      "[179]\tvalidation_0-logloss:0.23838\n",
      "[180]\tvalidation_0-logloss:0.23783\n",
      "[181]\tvalidation_0-logloss:0.23765\n",
      "[182]\tvalidation_0-logloss:0.23746\n",
      "[183]\tvalidation_0-logloss:0.23733\n",
      "[184]\tvalidation_0-logloss:0.23692\n",
      "[185]\tvalidation_0-logloss:0.23650\n",
      "[186]\tvalidation_0-logloss:0.23630\n",
      "[187]\tvalidation_0-logloss:0.23606\n",
      "[188]\tvalidation_0-logloss:0.23556\n",
      "[189]\tvalidation_0-logloss:0.23539\n",
      "[190]\tvalidation_0-logloss:0.23491\n",
      "[191]\tvalidation_0-logloss:0.23454\n",
      "[192]\tvalidation_0-logloss:0.23410\n",
      "[193]\tvalidation_0-logloss:0.23389\n",
      "[194]\tvalidation_0-logloss:0.23370\n",
      "[195]\tvalidation_0-logloss:0.23345\n",
      "[196]\tvalidation_0-logloss:0.23322\n",
      "[197]\tvalidation_0-logloss:0.23294\n",
      "[198]\tvalidation_0-logloss:0.23284\n",
      "[199]\tvalidation_0-logloss:0.23242\n",
      "[200]\tvalidation_0-logloss:0.23241\n",
      "[201]\tvalidation_0-logloss:0.23243\n",
      "[202]\tvalidation_0-logloss:0.23236\n",
      "[203]\tvalidation_0-logloss:0.23203\n",
      "[204]\tvalidation_0-logloss:0.23188\n",
      "[205]\tvalidation_0-logloss:0.23169\n",
      "[206]\tvalidation_0-logloss:0.23148\n",
      "[207]\tvalidation_0-logloss:0.23112\n",
      "[208]\tvalidation_0-logloss:0.23101\n",
      "[209]\tvalidation_0-logloss:0.23074\n",
      "[210]\tvalidation_0-logloss:0.23025\n",
      "[211]\tvalidation_0-logloss:0.23014\n",
      "[212]\tvalidation_0-logloss:0.22991\n",
      "[213]\tvalidation_0-logloss:0.22929\n",
      "[214]\tvalidation_0-logloss:0.22894\n",
      "[215]\tvalidation_0-logloss:0.22859\n",
      "[216]\tvalidation_0-logloss:0.22838\n",
      "[217]\tvalidation_0-logloss:0.22843\n",
      "[218]\tvalidation_0-logloss:0.22816\n",
      "[219]\tvalidation_0-logloss:0.22813\n",
      "[220]\tvalidation_0-logloss:0.22779\n",
      "[221]\tvalidation_0-logloss:0.22740\n",
      "[222]\tvalidation_0-logloss:0.22688\n",
      "[223]\tvalidation_0-logloss:0.22653\n",
      "[224]\tvalidation_0-logloss:0.22622\n",
      "[225]\tvalidation_0-logloss:0.22598\n",
      "[226]\tvalidation_0-logloss:0.22565\n",
      "[227]\tvalidation_0-logloss:0.22555\n",
      "[228]\tvalidation_0-logloss:0.22557\n",
      "[229]\tvalidation_0-logloss:0.22546\n",
      "[230]\tvalidation_0-logloss:0.22527\n",
      "[231]\tvalidation_0-logloss:0.22521\n",
      "[232]\tvalidation_0-logloss:0.22487\n",
      "[233]\tvalidation_0-logloss:0.22458\n",
      "[234]\tvalidation_0-logloss:0.22445\n",
      "[235]\tvalidation_0-logloss:0.22433\n",
      "[236]\tvalidation_0-logloss:0.22408\n",
      "[237]\tvalidation_0-logloss:0.22396\n",
      "[238]\tvalidation_0-logloss:0.22404\n",
      "[239]\tvalidation_0-logloss:0.22386\n",
      "[240]\tvalidation_0-logloss:0.22366\n",
      "[241]\tvalidation_0-logloss:0.22349\n",
      "[242]\tvalidation_0-logloss:0.22347\n",
      "[243]\tvalidation_0-logloss:0.22336\n",
      "[244]\tvalidation_0-logloss:0.22325\n",
      "[245]\tvalidation_0-logloss:0.22328\n",
      "[246]\tvalidation_0-logloss:0.22326\n",
      "[247]\tvalidation_0-logloss:0.22311\n",
      "[248]\tvalidation_0-logloss:0.22292\n",
      "[249]\tvalidation_0-logloss:0.22269\n",
      "[250]\tvalidation_0-logloss:0.22244\n",
      "[251]\tvalidation_0-logloss:0.22241\n",
      "[252]\tvalidation_0-logloss:0.22242\n",
      "[253]\tvalidation_0-logloss:0.22236\n",
      "[254]\tvalidation_0-logloss:0.22210\n",
      "[255]\tvalidation_0-logloss:0.22222\n",
      "[256]\tvalidation_0-logloss:0.22186\n",
      "[257]\tvalidation_0-logloss:0.22154\n",
      "[258]\tvalidation_0-logloss:0.22132\n",
      "[259]\tvalidation_0-logloss:0.22119\n",
      "[260]\tvalidation_0-logloss:0.22115\n",
      "[261]\tvalidation_0-logloss:0.22096\n",
      "[262]\tvalidation_0-logloss:0.22063\n",
      "[263]\tvalidation_0-logloss:0.22068\n",
      "[264]\tvalidation_0-logloss:0.22069\n",
      "[265]\tvalidation_0-logloss:0.22053\n",
      "[266]\tvalidation_0-logloss:0.22051\n",
      "[267]\tvalidation_0-logloss:0.22021\n",
      "[268]\tvalidation_0-logloss:0.22008\n",
      "[269]\tvalidation_0-logloss:0.22000\n",
      "[270]\tvalidation_0-logloss:0.21977\n",
      "[271]\tvalidation_0-logloss:0.21986\n",
      "[272]\tvalidation_0-logloss:0.21997\n",
      "[273]\tvalidation_0-logloss:0.21965\n",
      "[274]\tvalidation_0-logloss:0.21972\n",
      "[275]\tvalidation_0-logloss:0.21955\n",
      "[276]\tvalidation_0-logloss:0.21926\n",
      "[277]\tvalidation_0-logloss:0.21937\n",
      "[278]\tvalidation_0-logloss:0.21924\n",
      "[279]\tvalidation_0-logloss:0.21920\n",
      "[280]\tvalidation_0-logloss:0.21933\n",
      "[281]\tvalidation_0-logloss:0.21918\n",
      "[282]\tvalidation_0-logloss:0.21913\n",
      "[283]\tvalidation_0-logloss:0.21913\n",
      "[284]\tvalidation_0-logloss:0.21916\n",
      "[285]\tvalidation_0-logloss:0.21902\n",
      "[286]\tvalidation_0-logloss:0.21908\n",
      "[287]\tvalidation_0-logloss:0.21928\n",
      "[288]\tvalidation_0-logloss:0.21927\n",
      "[289]\tvalidation_0-logloss:0.21910\n",
      "[290]\tvalidation_0-logloss:0.21889\n",
      "[291]\tvalidation_0-logloss:0.21885\n",
      "[292]\tvalidation_0-logloss:0.21885\n",
      "[293]\tvalidation_0-logloss:0.21870\n",
      "[294]\tvalidation_0-logloss:0.21878\n",
      "[295]\tvalidation_0-logloss:0.21867\n",
      "[296]\tvalidation_0-logloss:0.21863\n",
      "[297]\tvalidation_0-logloss:0.21881\n",
      "[298]\tvalidation_0-logloss:0.21835\n",
      "[299]\tvalidation_0-logloss:0.21815\n",
      "[300]\tvalidation_0-logloss:0.21810\n",
      "[301]\tvalidation_0-logloss:0.21813\n",
      "[302]\tvalidation_0-logloss:0.21795\n",
      "[303]\tvalidation_0-logloss:0.21765\n",
      "[304]\tvalidation_0-logloss:0.21731\n",
      "[305]\tvalidation_0-logloss:0.21725\n",
      "[306]\tvalidation_0-logloss:0.21749\n",
      "[307]\tvalidation_0-logloss:0.21744\n",
      "[308]\tvalidation_0-logloss:0.21751\n",
      "[309]\tvalidation_0-logloss:0.21751\n",
      "[310]\tvalidation_0-logloss:0.21762\n",
      "[311]\tvalidation_0-logloss:0.21754\n",
      "[312]\tvalidation_0-logloss:0.21750\n",
      "[313]\tvalidation_0-logloss:0.21754\n",
      "[314]\tvalidation_0-logloss:0.21747\n",
      "[315]\tvalidation_0-logloss:0.21745\n"
     ]
    },
    {
     "data": {
      "text/html": [
       "<style>#sk-container-id-1 {color: black;}#sk-container-id-1 pre{padding: 0;}#sk-container-id-1 div.sk-toggleable {background-color: white;}#sk-container-id-1 label.sk-toggleable__label {cursor: pointer;display: block;width: 100%;margin-bottom: 0;padding: 0.3em;box-sizing: border-box;text-align: center;}#sk-container-id-1 label.sk-toggleable__label-arrow:before {content: \"▸\";float: left;margin-right: 0.25em;color: #696969;}#sk-container-id-1 label.sk-toggleable__label-arrow:hover:before {color: black;}#sk-container-id-1 div.sk-estimator:hover label.sk-toggleable__label-arrow:before {color: black;}#sk-container-id-1 div.sk-toggleable__content {max-height: 0;max-width: 0;overflow: hidden;text-align: left;background-color: #f0f8ff;}#sk-container-id-1 div.sk-toggleable__content pre {margin: 0.2em;color: black;border-radius: 0.25em;background-color: #f0f8ff;}#sk-container-id-1 input.sk-toggleable__control:checked~div.sk-toggleable__content {max-height: 200px;max-width: 100%;overflow: auto;}#sk-container-id-1 input.sk-toggleable__control:checked~label.sk-toggleable__label-arrow:before {content: \"▾\";}#sk-container-id-1 div.sk-estimator input.sk-toggleable__control:checked~label.sk-toggleable__label {background-color: #d4ebff;}#sk-container-id-1 div.sk-label input.sk-toggleable__control:checked~label.sk-toggleable__label {background-color: #d4ebff;}#sk-container-id-1 input.sk-hidden--visually {border: 0;clip: rect(1px 1px 1px 1px);clip: rect(1px, 1px, 1px, 1px);height: 1px;margin: -1px;overflow: hidden;padding: 0;position: absolute;width: 1px;}#sk-container-id-1 div.sk-estimator {font-family: monospace;background-color: #f0f8ff;border: 1px dotted black;border-radius: 0.25em;box-sizing: border-box;margin-bottom: 0.5em;}#sk-container-id-1 div.sk-estimator:hover {background-color: #d4ebff;}#sk-container-id-1 div.sk-parallel-item::after {content: \"\";width: 100%;border-bottom: 1px solid gray;flex-grow: 1;}#sk-container-id-1 div.sk-label:hover label.sk-toggleable__label {background-color: #d4ebff;}#sk-container-id-1 div.sk-serial::before {content: \"\";position: absolute;border-left: 1px solid gray;box-sizing: border-box;top: 0;bottom: 0;left: 50%;z-index: 0;}#sk-container-id-1 div.sk-serial {display: flex;flex-direction: column;align-items: center;background-color: white;padding-right: 0.2em;padding-left: 0.2em;position: relative;}#sk-container-id-1 div.sk-item {position: relative;z-index: 1;}#sk-container-id-1 div.sk-parallel {display: flex;align-items: stretch;justify-content: center;background-color: white;position: relative;}#sk-container-id-1 div.sk-item::before, #sk-container-id-1 div.sk-parallel-item::before {content: \"\";position: absolute;border-left: 1px solid gray;box-sizing: border-box;top: 0;bottom: 0;left: 50%;z-index: -1;}#sk-container-id-1 div.sk-parallel-item {display: flex;flex-direction: column;z-index: 1;position: relative;background-color: white;}#sk-container-id-1 div.sk-parallel-item:first-child::after {align-self: flex-end;width: 50%;}#sk-container-id-1 div.sk-parallel-item:last-child::after {align-self: flex-start;width: 50%;}#sk-container-id-1 div.sk-parallel-item:only-child::after {width: 0;}#sk-container-id-1 div.sk-dashed-wrapped {border: 1px dashed gray;margin: 0 0.4em 0.5em 0.4em;box-sizing: border-box;padding-bottom: 0.4em;background-color: white;}#sk-container-id-1 div.sk-label label {font-family: monospace;font-weight: bold;display: inline-block;line-height: 1.2em;}#sk-container-id-1 div.sk-label-container {text-align: center;}#sk-container-id-1 div.sk-container {/* jupyter's `normalize.less` sets `[hidden] { display: none; }` but bootstrap.min.css set `[hidden] { display: none !important; }` so we also need the `!important` here to be able to override the default hidden behavior on the sphinx rendered scikit-learn.org. See: https://github.com/scikit-learn/scikit-learn/issues/21755 */display: inline-block !important;position: relative;}#sk-container-id-1 div.sk-text-repr-fallback {display: none;}</style><div id=\"sk-container-id-1\" class=\"sk-top-container\"><div class=\"sk-text-repr-fallback\"><pre>XGBClassifier(base_score=None, booster=&#x27;gbtree&#x27;, callbacks=None,\n",
       "              colsample_bylevel=None, colsample_bynode=None,\n",
       "              colsample_bytree=0.7, device=None, early_stopping_rounds=10,\n",
       "              enable_categorical=False, eval_metric=&#x27;logloss&#x27;,\n",
       "              feature_types=None, gamma=None, grow_policy=None,\n",
       "              importance_type=None, interaction_constraints=None,\n",
       "              learning_rate=0.01, max_bin=None, max_cat_threshold=None,\n",
       "              max_cat_to_onehot=None, max_delta_step=3, max_depth=8,\n",
       "              max_leaves=None, min_child_weight=None, missing=nan,\n",
       "              monotone_constraints=None, multi_strategy=None, n_estimators=500,\n",
       "              n_jobs=None, num_parallel_tree=None, random_state=None, ...)</pre><b>In a Jupyter environment, please rerun this cell to show the HTML representation or trust the notebook. <br />On GitHub, the HTML representation is unable to render, please try loading this page with nbviewer.org.</b></div><div class=\"sk-container\" hidden><div class=\"sk-item\"><div class=\"sk-estimator sk-toggleable\"><input class=\"sk-toggleable__control sk-hidden--visually\" id=\"sk-estimator-id-1\" type=\"checkbox\" checked><label for=\"sk-estimator-id-1\" class=\"sk-toggleable__label sk-toggleable__label-arrow\">XGBClassifier</label><div class=\"sk-toggleable__content\"><pre>XGBClassifier(base_score=None, booster=&#x27;gbtree&#x27;, callbacks=None,\n",
       "              colsample_bylevel=None, colsample_bynode=None,\n",
       "              colsample_bytree=0.7, device=None, early_stopping_rounds=10,\n",
       "              enable_categorical=False, eval_metric=&#x27;logloss&#x27;,\n",
       "              feature_types=None, gamma=None, grow_policy=None,\n",
       "              importance_type=None, interaction_constraints=None,\n",
       "              learning_rate=0.01, max_bin=None, max_cat_threshold=None,\n",
       "              max_cat_to_onehot=None, max_delta_step=3, max_depth=8,\n",
       "              max_leaves=None, min_child_weight=None, missing=nan,\n",
       "              monotone_constraints=None, multi_strategy=None, n_estimators=500,\n",
       "              n_jobs=None, num_parallel_tree=None, random_state=None, ...)</pre></div></div></div></div></div>"
      ],
      "text/plain": [
       "XGBClassifier(base_score=None, booster='gbtree', callbacks=None,\n",
       "              colsample_bylevel=None, colsample_bynode=None,\n",
       "              colsample_bytree=0.7, device=None, early_stopping_rounds=10,\n",
       "              enable_categorical=False, eval_metric='logloss',\n",
       "              feature_types=None, gamma=None, grow_policy=None,\n",
       "              importance_type=None, interaction_constraints=None,\n",
       "              learning_rate=0.01, max_bin=None, max_cat_threshold=None,\n",
       "              max_cat_to_onehot=None, max_delta_step=3, max_depth=8,\n",
       "              max_leaves=None, min_child_weight=None, missing=nan,\n",
       "              monotone_constraints=None, multi_strategy=None, n_estimators=500,\n",
       "              n_jobs=None, num_parallel_tree=None, random_state=None, ...)"
      ]
     },
     "execution_count": 37,
     "metadata": {},
     "output_type": "execute_result"
    }
   ],
   "source": [
    "xgb_model = XGBClassifier(n_estimators = 500, \n",
    "                          max_depth=8,\n",
    "                          learning_rate = 0.01,\n",
    "                          verbosity = 1, \n",
    "                          early_stopping_rounds = 10,\n",
    "                          eval_metric = 'logloss',\n",
    "                          objective='binary:logistic',\n",
    "                          colsample_bytree = 0.7,\n",
    "                          subsample = 0.5,\n",
    "                          max_delta_step = 3,\n",
    "                          reg_lambda = 2,\n",
    "                          booster = 'gbtree',\n",
    "                          scale_pos_weight=5,\n",
    "                          )\n",
    "\n",
    "eval_set = [(X_valid, y_valid)]\n",
    "\n",
    "xgb_model.fit(X_train,y_train, eval_set = eval_set)"
   ]
  },
  {
   "cell_type": "code",
   "execution_count": 38,
   "metadata": {},
   "outputs": [
    {
     "name": "stdout",
     "output_type": "stream",
     "text": [
      "              precision    recall  f1-score   support\n",
      "\n",
      "         0.0       0.98      0.94      0.96       243\n",
      "         1.0       0.55      0.77      0.64        22\n",
      "\n",
      "    accuracy                           0.93       265\n",
      "   macro avg       0.76      0.86      0.80       265\n",
      "weighted avg       0.94      0.93      0.93       265\n",
      "\n",
      "Acc Score : 0.9283018867924528\n",
      "AUC Score : 0.8575570520014965\n"
     ]
    }
   ],
   "source": [
    "# 4단계: 예측하기\n",
    "y_pred = xgb_model.predict(X_test)\n",
    "\n",
    "# 5단계 평가하기\n",
    "print(classification_report(y_test, y_pred))\n",
    "print('Acc Score :', accuracy_score(y_test, y_pred))\n",
    "print('AUC Score :', roc_auc_score(y_test, y_pred))"
   ]
  },
  {
   "cell_type": "code",
   "execution_count": 81,
   "metadata": {},
   "outputs": [
    {
     "data": {
      "text/plain": [
       "0.908062102506547"
      ]
     },
     "execution_count": 81,
     "metadata": {},
     "output_type": "execute_result"
    }
   ],
   "source": [
    "predictions = model.predict_proba(X_test)[:, -1]\n",
    "\n",
    "score = roc_auc_score(y_test, predictions)\n",
    "score"
   ]
  },
  {
   "cell_type": "markdown",
   "metadata": {},
   "source": [
    "### 결론 \n",
    "\n",
    "차원을 줄이고 Oversampling 하였을때 가장 성능이 좋았습니다. \n",
    "\n"
   ]
  },
  {
   "cell_type": "code",
   "execution_count": 57,
   "metadata": {},
   "outputs": [
    {
     "data": {
      "text/plain": [
       "(1763, 1559)"
      ]
     },
     "execution_count": 57,
     "metadata": {},
     "output_type": "execute_result"
    }
   ],
   "source": [
    "train.shape"
   ]
  },
  {
   "cell_type": "code",
   "execution_count": 59,
   "metadata": {},
   "outputs": [
    {
     "data": {
      "text/plain": [
       "((2068, 48), (518, 48), (2068,), (518,))"
      ]
     },
     "execution_count": 59,
     "metadata": {},
     "output_type": "execute_result"
    }
   ],
   "source": [
    "train_filter = train.T.drop_duplicates().T\n",
    "\n",
    "df = pd.DataFrame((train_filter == 0).astype(int).sum(axis=0))\n",
    "all_zero = df[df[0]>len(train_filter)*0.97].index\n",
    "\n",
    "train_filter2 = train_filter.drop(all_zero,axis=1)\n",
    "\n",
    "X = train_filter2.drop(\"Class\", axis = 1)\n",
    "y = train_filter2[\"Class\"]\n",
    "\n",
    "X_train, X_valid, y_train, y_valid = train_test_split(X, y, test_size = 0.2, random_state=0)\n",
    "\n",
    "\n",
    "Sm = SMOTE()\n",
    "x_train, y_train = Sm.fit_resample(X_train, y_train)\n",
    "x_train.shape, y_train.shape, y_train.value_counts()\n",
    "\n",
    "x_train_re, x_valid_re, y_train_re, y_valid_re = train_test_split(x_train, y_train, test_size = 0.2, random_state=0)\n",
    "\n",
    "x_train_re.shape, x_valid_re.shape, y_train_re.shape, y_valid_re.shape"
   ]
  },
  {
   "cell_type": "code",
   "execution_count": 81,
   "metadata": {},
   "outputs": [],
   "source": [
    "# 1단계: 불러오기\n",
    "from sklearn.neighbors import KNeighborsClassifier\n",
    "from sklearn.naive_bayes import GaussianNB\n",
    "from sklearn.svm import SVC\n",
    "from sklearn.tree import DecisionTreeClassifier\n",
    "from sklearn.linear_model import LogisticRegression\n",
    "from sklearn.ensemble import RandomForestClassifier\n",
    "from xgboost import XGBClassifier\n",
    "from lightgbm import LGBMClassifier"
   ]
  },
  {
   "cell_type": "code",
   "execution_count": 82,
   "metadata": {},
   "outputs": [],
   "source": [
    "models = {\n",
    "    \"KNeighborsClassifier\": {\"model\":KNeighborsClassifier()},\n",
    "    \"GaussianNB\": {\"model\":GaussianNB()},\n",
    "    \"SVM\": {\"model\":SVC(probability=True)},\n",
    "    \"DecisionTreeClassifier\": {\"model\":DecisionTreeClassifier(random_state=0)},\n",
    "    \"LogisticRegression\": {\"model\":LogisticRegression(random_state=0)},\n",
    "    \"RandomForestClassifier\": {\"model\":RandomForestClassifier(random_state=0)},\n",
    "    \"XGBClassifier\": {\"model\":XGBClassifier(random_state=0)},\n",
    "    \"LGBMClassifier\": {\"model\":LGBMClassifier(random_state=0,verbose=-1)}\n",
    "}"
   ]
  },
  {
   "cell_type": "code",
   "execution_count": 83,
   "metadata": {},
   "outputs": [
    {
     "name": "stdout",
     "output_type": "stream",
     "text": [
      "KNeighborsClassifier trained in 0.0 sec, val_re_score: 0.893277109516605. val_score: 0.6936603152199482\n",
      "GaussianNB           trained in 0.01 sec, val_re_score: 0.6393561723864164. val_score: 0.6022112444130794\n",
      "SVM                  trained in 0.67 sec, val_re_score: 0.705985889120242. val_score: 0.7758174547165373\n",
      "DecisionTreeClassifier trained in 0.01 sec, val_re_score: 0.9459532333687853. val_score: 0.729475417548812\n",
      "LogisticRegression   trained in 0.05 sec, val_re_score: 0.8834204652695598. val_score: 0.8619148435662197\n"
     ]
    },
    {
     "name": "stderr",
     "output_type": "stream",
     "text": [
      "c:\\Users\\kim_h\\anaconda3\\envs\\data\\lib\\site-packages\\sklearn\\linear_model\\_logistic.py:460: ConvergenceWarning: lbfgs failed to converge (status=1):\n",
      "STOP: TOTAL NO. of ITERATIONS REACHED LIMIT.\n",
      "\n",
      "Increase the number of iterations (max_iter) or scale the data as shown in:\n",
      "    https://scikit-learn.org/stable/modules/preprocessing.html\n",
      "Please also refer to the documentation for alternative solver options:\n",
      "    https://scikit-learn.org/stable/modules/linear_model.html#logistic-regression\n",
      "  n_iter_i = _check_optimize_result(\n"
     ]
    },
    {
     "name": "stdout",
     "output_type": "stream",
     "text": [
      "RandomForestClassifier trained in 0.29 sec, val_re_score: 0.95551777341702. val_score: 0.7548223947306516\n",
      "XGBClassifier        trained in 0.15 sec, val_re_score: 0.955787408062076. val_score: 0.7786403199247236\n",
      "LGBMClassifier       trained in 0.09 sec, val_re_score: 0.9573228275686444. val_score: 0.713302752293578\n"
     ]
    },
    {
     "data": {
      "text/html": [
       "<div>\n",
       "<style scoped>\n",
       "    .dataframe tbody tr th:only-of-type {\n",
       "        vertical-align: middle;\n",
       "    }\n",
       "\n",
       "    .dataframe tbody tr th {\n",
       "        vertical-align: top;\n",
       "    }\n",
       "\n",
       "    .dataframe thead th {\n",
       "        text-align: right;\n",
       "    }\n",
       "</style>\n",
       "<table border=\"1\" class=\"dataframe\">\n",
       "  <thead>\n",
       "    <tr style=\"text-align: right;\">\n",
       "      <th></th>\n",
       "      <th>model</th>\n",
       "      <th>val_re_score</th>\n",
       "      <th>val_score</th>\n",
       "      <th>Training time (sec)</th>\n",
       "    </tr>\n",
       "  </thead>\n",
       "  <tbody>\n",
       "    <tr>\n",
       "      <th>0</th>\n",
       "      <td>LogisticRegression</td>\n",
       "      <td>0.883420</td>\n",
       "      <td>0.861915</td>\n",
       "      <td>0.05</td>\n",
       "    </tr>\n",
       "    <tr>\n",
       "      <th>1</th>\n",
       "      <td>XGBClassifier</td>\n",
       "      <td>0.955787</td>\n",
       "      <td>0.778640</td>\n",
       "      <td>0.15</td>\n",
       "    </tr>\n",
       "    <tr>\n",
       "      <th>2</th>\n",
       "      <td>SVM</td>\n",
       "      <td>0.705986</td>\n",
       "      <td>0.775817</td>\n",
       "      <td>0.67</td>\n",
       "    </tr>\n",
       "    <tr>\n",
       "      <th>3</th>\n",
       "      <td>RandomForestClassifier</td>\n",
       "      <td>0.955518</td>\n",
       "      <td>0.754822</td>\n",
       "      <td>0.29</td>\n",
       "    </tr>\n",
       "    <tr>\n",
       "      <th>4</th>\n",
       "      <td>DecisionTreeClassifier</td>\n",
       "      <td>0.945953</td>\n",
       "      <td>0.729475</td>\n",
       "      <td>0.01</td>\n",
       "    </tr>\n",
       "    <tr>\n",
       "      <th>5</th>\n",
       "      <td>LGBMClassifier</td>\n",
       "      <td>0.957323</td>\n",
       "      <td>0.713303</td>\n",
       "      <td>0.09</td>\n",
       "    </tr>\n",
       "    <tr>\n",
       "      <th>6</th>\n",
       "      <td>KNeighborsClassifier</td>\n",
       "      <td>0.893277</td>\n",
       "      <td>0.693660</td>\n",
       "      <td>0.00</td>\n",
       "    </tr>\n",
       "    <tr>\n",
       "      <th>7</th>\n",
       "      <td>GaussianNB</td>\n",
       "      <td>0.639356</td>\n",
       "      <td>0.602211</td>\n",
       "      <td>0.01</td>\n",
       "    </tr>\n",
       "  </tbody>\n",
       "</table>\n",
       "</div>"
      ],
      "text/plain": [
       "                    model  val_re_score  val_score  Training time (sec)\n",
       "0      LogisticRegression      0.883420   0.861915                 0.05\n",
       "1           XGBClassifier      0.955787   0.778640                 0.15\n",
       "2                     SVM      0.705986   0.775817                 0.67\n",
       "3  RandomForestClassifier      0.955518   0.754822                 0.29\n",
       "4  DecisionTreeClassifier      0.945953   0.729475                 0.01\n",
       "5          LGBMClassifier      0.957323   0.713303                 0.09\n",
       "6    KNeighborsClassifier      0.893277   0.693660                 0.00\n",
       "7              GaussianNB      0.639356   0.602211                 0.01"
      ]
     },
     "execution_count": 83,
     "metadata": {},
     "output_type": "execute_result"
    }
   ],
   "source": [
    "from time import perf_counter\n",
    "\n",
    "# Train모델 학습\n",
    "for name, model in models.items():\n",
    "    model = model['model']\n",
    "    start = perf_counter()\n",
    "\n",
    "    history = model.fit(x_train_re, y_train_re)\n",
    "\n",
    "    # 학습시간과 val_accuracy 저장\n",
    "    duration = perf_counter() - start\n",
    "    duration = round(duration,2)\n",
    "    models[name]['perf'] = duration\n",
    "\n",
    "    y_val_re_pred = model.predict(x_valid_re)\n",
    "    y_val_pred = model.predict(X_valid)\n",
    "\n",
    "    val_re_score = roc_auc_score(y_valid_re, y_val_re_pred)\n",
    "    val_score = roc_auc_score(y_valid, y_val_pred)\n",
    "\n",
    "    models[name]['val_re_score'] = val_re_score\n",
    "    models[name]['val_score'] = val_score\n",
    "\n",
    "    print(f\"{name:20} trained in {duration} sec, val_re_score: {val_re_score}. val_score: {val_score}\")\n",
    "\n",
    "# Create a DataFrame with the results\n",
    "models_result = []\n",
    "\n",
    "for name, v in models.items():\n",
    "    models_result.append([ name, models[name]['val_re_score'], models[name]['val_score'], \n",
    "                          models[name]['perf']])\n",
    "\n",
    "df_results = pd.DataFrame(models_result, \n",
    "                          columns = ['model','val_re_score','val_score','Training time (sec)'])\n",
    "df_results.sort_values(by='val_score', ascending=False, inplace=True)\n",
    "df_results.reset_index(inplace=True,drop=True)\n",
    "df_results"
   ]
  },
  {
   "cell_type": "code",
   "execution_count": 84,
   "metadata": {},
   "outputs": [],
   "source": [
    "def check_performance_for_model(df_results, version='val_score'):\n",
    "    df_results = df_results.sort_values(by=version, ascending=False)\n",
    "    palette = sns.color_palette(\"husl\", len(df_results))\n",
    "    plt.figure(figsize = (15,5))\n",
    "    sns.barplot(x='model', y=version, data=df_results, palette=palette)\n",
    "    plt.title('AUC on the Test set', fontsize = 15)\n",
    "    plt.ylim(0,1.2)\n",
    "    plt.xticks(rotation=90)\n",
    "    plt.show()"
   ]
  },
  {
   "cell_type": "code",
   "execution_count": 85,
   "metadata": {},
   "outputs": [
    {
     "name": "stderr",
     "output_type": "stream",
     "text": [
      "C:\\Users\\kim_h\\AppData\\Local\\Temp\\ipykernel_27840\\526139707.py:5: FutureWarning: \n",
      "\n",
      "Passing `palette` without assigning `hue` is deprecated and will be removed in v0.14.0. Assign the `x` variable to `hue` and set `legend=False` for the same effect.\n",
      "\n",
      "  sns.barplot(x='model', y=version, data=df_results, palette=palette)\n"
     ]
    },
    {
     "data": {
      "image/png": "[encoded data removed]",
      "text/plain": [
       "<Figure size 1500x500 with 1 Axes>"
      ]
     },
     "metadata": {},
     "output_type": "display_data"
    }
   ],
   "source": [
    "check_performance_for_model(df_results, version='val_re_score')"
   ]
  },
  {
   "cell_type": "code",
   "execution_count": 86,
   "metadata": {},
   "outputs": [
    {
     "name": "stderr",
     "output_type": "stream",
     "text": [
      "C:\\Users\\kim_h\\AppData\\Local\\Temp\\ipykernel_27840\\526139707.py:5: FutureWarning: \n",
      "\n",
      "Passing `palette` without assigning `hue` is deprecated and will be removed in v0.14.0. Assign the `x` variable to `hue` and set `legend=False` for the same effect.\n",
      "\n",
      "  sns.barplot(x='model', y=version, data=df_results, palette=palette)\n"
     ]
    },
    {
     "data": {
      "image/png": "[encoded data removed]",
      "text/plain": [
       "<Figure size 1500x500 with 1 Axes>"
      ]
     },
     "metadata": {},
     "output_type": "display_data"
    }
   ],
   "source": [
    "check_performance_for_model(df_results, version='val_score')"
   ]
  },
  {
   "cell_type": "code",
   "execution_count": null,
   "metadata": {},
   "outputs": [],
   "source": []
  }
 ],
 "metadata": {
  "kernelspec": {
   "display_name": "data",
   "language": "python",
   "name": "python3"
  },
  "language_info": {
   "codemirror_mode": {
    "name": "ipython",
    "version": 3
   },
   "file_extension": ".py",
   "mimetype": "text/x-python",
   "name": "python",
   "nbconvert_exporter": "python",
   "pygments_lexer": "ipython3",
   "version": "3.8.19"
  }
 },
 "nbformat": 4,
 "nbformat_minor": 2
}
